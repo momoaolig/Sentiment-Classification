{
 "cells": [
  {
   "cell_type": "markdown",
   "id": "7e9710c0",
   "metadata": {},
   "source": [
    "# Linear Regression with Pytorch"
   ]
  },
  {
   "cell_type": "markdown",
   "id": "5f6a87b3",
   "metadata": {},
   "source": [
    "Linear Regression is the task of predicting the value of a variable (y) depending on another variable (x) by fitting a linear curve using a set of existing datapoints (X, Y). \n",
    "\n",
    "The goal is to come up with the equation $y = Wx + b$ that \"fits\" the datapoints (X, Y) the \"best\". $W, b$ are the parameters of this equation that we need to \"learn\"\n",
    "\n",
    "$x$ is also called input features and it can be of arbitrary dimension. Typically, the $y$ for an $x$ is a single value\n",
    "\n",
    "### Linear Least Squares (https://en.wikipedia.org/wiki/Linear_least_squares)\n",
    "\n",
    "![Linear Regression](https://upload.wikimedia.org/wikipedia/commons/b/b0/Linear_least_squares_example2.svg)"
   ]
  },
  {
   "cell_type": "code",
   "execution_count": 1,
   "id": "f26acbd8",
   "metadata": {},
   "outputs": [],
   "source": [
    "import torch\n",
    "import numpy as np\n",
    "import matplotlib.pyplot as plt"
   ]
  },
  {
   "cell_type": "markdown",
   "id": "6b65d434",
   "metadata": {},
   "source": [
    "# Create dummy data"
   ]
  },
  {
   "cell_type": "code",
   "execution_count": 2,
   "id": "03b9e571",
   "metadata": {},
   "outputs": [],
   "source": [
    "# create the synthetic input as 20 datapoints with feature length = 1\n",
    "# this is so that we can visualize the datpoints easier\n",
    "\n",
    "X = np.array(list(range(0, 100, 5))).reshape((-1,1))"
   ]
  },
  {
   "cell_type": "code",
   "execution_count": 3,
   "id": "d49bfe76",
   "metadata": {},
   "outputs": [
    {
     "name": "stdout",
     "output_type": "stream",
     "text": [
      "Shape of the input: (20, 1)\n",
      "Number of samples (N): 20\n",
      "Feature length (m): 1\n"
     ]
    }
   ],
   "source": [
    "input_shape = X.shape\n",
    "N = X.shape[0]\n",
    "m = X.shape[1]\n",
    "\n",
    "print(\"Shape of the input:\", input_shape)\n",
    "print(\"Number of samples (N):\", N)\n",
    "print(\"Feature length (m):\", m)"
   ]
  },
  {
   "cell_type": "code",
   "execution_count": 4,
   "id": "799f0727",
   "metadata": {
    "scrolled": true
   },
   "outputs": [],
   "source": [
    "# create the synthetic set of labels by adding noise to a straight line\n",
    "\n",
    "def foo(x, m=2, c=10, mu=20, sigma=15):\n",
    "    num_x = np.array(x)\n",
    "    return m*num_x + c + np.random.normal(mu, sigma, num_x.shape)\n",
    "\n",
    "y = np.array([foo(x) for x in X])"
   ]
  },
  {
   "cell_type": "code",
   "execution_count": 5,
   "id": "3893abca",
   "metadata": {},
   "outputs": [
    {
     "data": {
      "text/plain": [
       "Text(0, 0.5, 'y')"
      ]
     },
     "execution_count": 5,
     "metadata": {},
     "output_type": "execute_result"
    },
    {
     "data": {
      "image/png": "[encoded data removed]",
      "text/plain": [
       "<Figure size 432x288 with 1 Axes>"
      ]
     },
     "metadata": {
      "needs_background": "light"
     },
     "output_type": "display_data"
    }
   ],
   "source": [
    "plt.scatter(X, y)\n",
    "plt.xlabel('X')\n",
    "plt.ylabel('y')"
   ]
  },
  {
   "cell_type": "markdown",
   "id": "bd4fb96f",
   "metadata": {},
   "source": [
    "# Fit a line to the data\n",
    "\n",
    "Now the goal is to \"fit\" the datapoints with a straight line that could be used to predict the \"y\" value of new samples. The way we achieve this task is by finding the line which minimizes the Mean Squared Error (MSE) loss for the datapoints\n",
    "\n",
    "Note that this has a closed form solution, which can be used when you have a small number of coefficients. Since we are working with potentially many coefficients, we optimize with gradient descent."
   ]
  },
  {
   "cell_type": "code",
   "execution_count": 45,
   "id": "e508bdae",
   "metadata": {},
   "outputs": [],
   "source": [
    "class LinearRegressor(torch.nn.Module):\n",
    "    def __init__(self, feature_len):\n",
    "        super(LinearRegressor, self).__init__()\n",
    "        # This will hold the parameters of the model: W (Weights) and b (bias or intercept)\n",
    "        self.linear = torch.nn.Linear(feature_len, 1)\n",
    "        self.linear.weight.data *= 0\n",
    "    def forward(self, x):\n",
    "        return self.linear(x)"
   ]
  },
  {
   "cell_type": "code",
   "execution_count": 7,
   "id": "aa3132c8",
   "metadata": {},
   "outputs": [],
   "source": [
    "def train(X, y, learning_rate=0.01, batch_size=10, n_iters=10):\n",
    "    \"\"\"\n",
    "    Train a linear regressor using the provided X, y dataset.\n",
    "    The steps involved in training are as follows:\n",
    "        1. Instantiate a regressor model using the input's feature len\n",
    "        2. Instantiate an SGD optimizer for the parameters of the regressor using the learning_rate\n",
    "        3. Do training for n_iters number of times\n",
    "        4. Split dataset into batches of size `batch_size`\n",
    "        5. Refresh the gradients of the regressor\n",
    "        6. Run the forward function of regressor to get the prediction of the input batch\n",
    "        7. Calculate the MSE Loss\n",
    "        8. Run backpropogation to calculate the gradients\n",
    "        9. Update the parameters with the gradients\n",
    "    \"\"\"\n",
    "    input_shape = X.shape\n",
    "    N = X.shape[0]\n",
    "    m = X.shape[1]\n",
    "    \n",
    "    # 1. Instantiate a regressor model using the input's feature len\n",
    "    regressor = LinearRegressor(m)\n",
    "    \n",
    "    def plot_curves():\n",
    "        plt.scatter(X, y)\n",
    "        plt.plot(X, predict(regressor, X), color='red')\n",
    "    \n",
    "    plot_curves()\n",
    "    \n",
    "    # 2. Instantiate an SGD optimizer for the parameters of the regressor using the learning_rate\n",
    "    optimizer = torch.optim.SGD(regressor.parameters(), lr=learning_rate)\n",
    "    \n",
    "    # 3. Do this for n_iters number of times\n",
    "    for iter_ in range(n_iters):\n",
    "        iteration_loss = 0.\n",
    "        # 4. Split dataset into batches of size `batch_size`\n",
    "        for i in range(0, N, batch_size):\n",
    "            # PyTorch requires the input and output to be tensors\n",
    "            x_batch = torch.FloatTensor(X[i:i+batch_size])\n",
    "            y_batch = torch.FloatTensor(y[i:i+batch_size])\n",
    "            \n",
    "            # 5. Refresh the gradients of the regressor\n",
    "            optimizer.zero_grad()\n",
    "            \n",
    "            # 6. Run the forward function of regressor to get the prediction of the input batch\n",
    "            # Note: Don't use the predict funtion here as the predict function ignores gradients\n",
    "            y_pred = regressor(x_batch)\n",
    "            \n",
    "            # 7. Calculate the MSE Loss\n",
    "            loss = torch.mean((y_pred - y_batch)**2)\n",
    "            \n",
    "            # 8. Run backpropogation to calculate the gradients\n",
    "            loss.backward()\n",
    "            \n",
    "            # 9. Update the Weights (W) with the gradients (Delta) as W = W + (lr * Delta)\n",
    "            optimizer.step()\n",
    "            \n",
    "            # store the accumulated loss for the iteration\n",
    "            iteration_loss += loss.detach().numpy()\n",
    "            \n",
    "        print(\"Epoch\", iter_, \"Loss:\", iteration_loss)\n",
    "        plot_curves()\n",
    "    plt.xlabel('X')\n",
    "    plt.ylabel('y')\n",
    "    return regressor\n",
    "            \n",
    "def predict(regressor, x):\n",
    "    with torch.no_grad():  # don't need gradients during prediction\n",
    "        return regressor(torch.FloatTensor(x))\n",
    "    "
   ]
  },
  {
   "cell_type": "code",
   "execution_count": 8,
   "id": "8b8ac982",
   "metadata": {
    "scrolled": true
   },
   "outputs": [
    {
     "name": "stdout",
     "output_type": "stream",
     "text": [
      "Epoch 0 Loss: 30513.56396484375\n",
      "Epoch 1 Loss: 1406.2118530273438\n",
      "Epoch 2 Loss: 1256.6034393310547\n",
      "Epoch 3 Loss: 1252.7325439453125\n",
      "Epoch 4 Loss: 1252.735595703125\n",
      "Epoch 5 Loss: 1252.5280456542969\n",
      "Epoch 6 Loss: 1252.3380737304688\n",
      "Epoch 7 Loss: 1252.1471252441406\n",
      "Epoch 8 Loss: 1251.9557495117188\n",
      "Epoch 9 Loss: 1251.7649536132812\n"
     ]
    },
    {
     "data": {
      "image/png": "[encoded data removed]",
      "text/plain": [
       "<Figure size 432x288 with 1 Axes>"
      ]
     },
     "metadata": {
      "needs_background": "light"
     },
     "output_type": "display_data"
    }
   ],
   "source": [
    "trained_regressor = train(X, y, learning_rate=0.0001)"
   ]
  },
  {
   "cell_type": "markdown",
   "id": "1072c462",
   "metadata": {},
   "source": [
    "The blue dots represent the datapoints in the training set. The red lines represent the fitted curve by the regressor after each epoch. The loss gradually reduces after each iteration and the regressor's line steadily comes closer in representing the datapoints during the training process."
   ]
  },
  {
   "cell_type": "code",
   "execution_count": 9,
   "id": "e66ad060",
   "metadata": {},
   "outputs": [],
   "source": [
    "#  DON'T EDIT THIS!!\n",
    "\n",
    "def compare(x, regressor):\n",
    "#     print('true y:', foo(x))\n",
    "#     print('predicted y:', predict(regressor, x).detach().numpy())\n",
    "    return foo(x), predict(regressor, x).detach().numpy()"
   ]
  },
  {
   "cell_type": "markdown",
   "id": "d42ea293",
   "metadata": {},
   "source": [
    "We can use the trained regressor for predicing the \"y\" value for \"unseen\" X"
   ]
  },
  {
   "cell_type": "code",
   "execution_count": 10,
   "id": "55ef89f2",
   "metadata": {},
   "outputs": [
    {
     "name": "stdout",
     "output_type": "stream",
     "text": [
      "predictions: [[642.52875]\n",
      " [741.354  ]]\n",
      "All Tests Ran Successfully!\n"
     ]
    }
   ],
   "source": [
    "#  DON'T EDIT THIS!!\n",
    "\n",
    "unseen_x = np.array([[260], [300]])\n",
    "true_y, pred_y = compare(unseen_x, trained_regressor)\n",
    "\n",
    "print(\"predictions:\", pred_y)\n",
    "\n",
    "assert pred_y[0] < 650 and pred_y[0] > 600\n",
    "assert pred_y[1] < 750 and pred_y[1] > 700\n",
    "\n",
    "print('All Tests Ran Successfully!')"
   ]
  },
  {
   "cell_type": "code",
   "execution_count": null,
   "id": "2e0de2cd",
   "metadata": {},
   "outputs": [],
   "source": []
  }
 ],
 "metadata": {
  "kernelspec": {
   "display_name": "Python 3 (ipykernel)",
   "language": "python",
   "name": "python3"
  },
  "language_info": {
   "codemirror_mode": {
    "name": "ipython",
    "version": 3
   },
   "file_extension": ".py",
   "mimetype": "text/x-python",
   "name": "python",
   "nbconvert_exporter": "python",
   "pygments_lexer": "ipython3",
   "version": "3.9.18"
  }
 },
 "nbformat": 4,
 "nbformat_minor": 5
}
